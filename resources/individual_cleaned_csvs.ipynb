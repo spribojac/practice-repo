{
 "cells": [
  {
   "cell_type": "code",
   "execution_count": 2,
   "id": "6bce9aa6",
   "metadata": {},
   "outputs": [],
   "source": [
    "import os\n",
    "import pandas as pd\n",
    "\n",
    "# The path to your CSV files\n",
    "file_paths = [\"2015.csv\", \"2016.csv\", \"2017.csv\", \"2018.csv\", \"2019.csv\", \"2020.csv\"]\n",
    "\n",
    "# Loop through the file paths for 2015-2020 and process each file separately\n",
    "for file_path in file_paths:\n",
    "    year = os.path.splitext(os.path.basename(file_path))[0]  # Extract the year from the file name\n",
    "    df = pd.read_csv(file_path, thousands=',', decimal='.')\n",
    "\n",
    "    # Determine the column name for the \"Country\" column\n",
    "    country_column = None\n",
    "    if 'Country' in df.columns:\n",
    "        country_column = 'Country'\n",
    "    elif 'Country or region' in df.columns:\n",
    "        country_column = 'Country or region'\n",
    "\n",
    "    if country_column:\n",
    "        # Define a dictionary to map column names to the desired names\n",
    "        df.rename(columns={\n",
    "            \"Country or region\": \"Country\",\n",
    "            \"Country name\": \"Country\",\n",
    "            \"Happiness.Score\": \"Happiness Score\",\n",
    "            \"Ladder score\": \"Happiness Score\",\n",
    "            \"Score\": \"Happiness Score\",\n",
    "            \"Economy..GDP.per.Capita.\": \"GDP per Capita\",\n",
    "            \"Economy (GDP per Capita)\": \"GDP per Capita\",\n",
    "            \"Logged GDP per capita\": \"GDP per Capita\",\n",
    "            \"GDP per capita\": \"GDP per Capita\",\n",
    "            \"Family\": \"Social Support\",\n",
    "            \"Social support\": \"Social Support\",\n",
    "            \"Explained by: GDP per capita\": \"GDP per Capita\",\n",
    "            \"Health..Life.Expectancy.\": \"Life Expectancy/Health\",\n",
    "            \"Health (Life Expectancy)\": \"Life Expectancy/Health\",\n",
    "            \"Healthy life expectancy\": \"Life Expectancy/Health\",\n",
    "            \"Freedom to make life choices\": \"Freedom\",\n",
    "            \"Trust..Government.Corruption.\": \"Trust (government corruption)\",\n",
    "            \"Trust (Government Corruption)\": \"Trust (government corruption)\",\n",
    "            \"Perceptions of corruption\": \"Trust (government corruption)\",\n",
    "            \"Explained by: Generosity\": \"Generosity\"\n",
    "        }, inplace=True)\n",
    "\n",
    "        # Select the desired columns in the specified order\n",
    "        desired_columns = [\"Country\", \"Happiness Score\", \"GDP per Capita\", \n",
    "                           \"Social Support\", \"Life Expectancy/Health\", \"Freedom\", \"Trust (government corruption)\", \n",
    "                           \"Generosity\"]\n",
    "\n",
    "        df = df[desired_columns]\n",
    "\n",
    "        # Save the processed DataFrame to a separate CSV file for the current year\n",
    "        output_file = f\"output/{year}_data.csv\"\n",
    "        df.to_csv(output_file, index=False)"
   ]
  },
  {
   "cell_type": "code",
   "execution_count": null,
   "id": "30582554",
   "metadata": {},
   "outputs": [],
   "source": []
  }
 ],
 "metadata": {
  "kernelspec": {
   "display_name": "Python 3 (ipykernel)",
   "language": "python",
   "name": "python3"
  },
  "language_info": {
   "codemirror_mode": {
    "name": "ipython",
    "version": 3
   },
   "file_extension": ".py",
   "mimetype": "text/x-python",
   "name": "python",
   "nbconvert_exporter": "python",
   "pygments_lexer": "ipython3",
   "version": "3.11.4"
  }
 },
 "nbformat": 4,
 "nbformat_minor": 5
}
